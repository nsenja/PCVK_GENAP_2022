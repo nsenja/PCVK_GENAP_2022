{
  "nbformat": 4,
  "nbformat_minor": 0,
  "metadata": {
    "colab": {
      "name": "week5.ipynb",
      "provenance": [],
      "authorship_tag": "ABX9TyOnJUkcFkUh7RPrio7jJ4m9",
      "include_colab_link": true
    },
    "kernelspec": {
      "name": "python3",
      "display_name": "Python 3"
    },
    "language_info": {
      "name": "python"
    }
  },
  "cells": [
    {
      "cell_type": "markdown",
      "metadata": {
        "id": "view-in-github",
        "colab_type": "text"
      },
      "source": [
        "<a href=\"https://colab.research.google.com/github/nsenja/PCVK_GENAP_2022/blob/main/week5.ipynb\" target=\"_parent\"><img src=\"https://colab.research.google.com/assets/colab-badge.svg\" alt=\"Open In Colab\"/></a>"
      ]
    },
    {
      "cell_type": "code",
      "execution_count": null,
      "metadata": {
        "colab": {
          "base_uri": "https://localhost:8080/"
        },
        "id": "YcJeLJ-_nQ7X",
        "outputId": "f9203147-6080-424c-b3a1-86ab047dcc9c"
      },
      "outputs": [
        {
          "output_type": "stream",
          "name": "stdout",
          "text": [
            "Mounted at /content/drive\n"
          ]
        }
      ],
      "source": [
        "from google.colab import drive\n",
        "\n",
        "#accessing google drive\n",
        "drive.mount('/content/drive')"
      ]
    },
    {
      "cell_type": "code",
      "source": [
        "import cv2 as cv\n",
        "from google.colab.patches import cv2_imshow\n",
        "from skimage import io\n",
        "import matplotlib.pyplot as plt\n",
        "import numpy as np\n"
      ],
      "metadata": {
        "id": "KQDBWQPgoQGG"
      },
      "execution_count": 30,
      "outputs": []
    },
    {
      "cell_type": "markdown",
      "source": [
        "Gamma Correction \n",
        "\n",
        "Gamma (Power-Law Transformation), di simbolkan dengan huruf yunani 𝛾, dijelaskan sebagai hubungan antara masukan dan keluaran yang dihasilkan. Masukan yang dimaksud adalah nilai intensitas RGB dari citra."
      ],
      "metadata": {
        "id": "7TkrdZKRrgnY"
      }
    },
    {
      "cell_type": "code",
      "source": [
        "print(' Gamma Correction pada citra ')\n",
        "  \n",
        "def gammaCorrection(src, gamma):\n",
        "    invGamma = 1 / gamma\n",
        " \n",
        "    table = [((i / 255) ** invGamma) * 255 for i in range(256)]\n",
        "    table = np.array(table, np.uint8)\n",
        " \n",
        "    return cv.LUT(src, table)\n",
        "\n",
        " \n",
        "img = cv.imread('/content/drive/MyDrive/PCVK/Images/female.tiff')\n",
        "gammaImg = gammaCorrection(img,3) #inputkan nilai gamma disamping (ex 3)\n",
        " \n",
        "final_frame = cv.hconcat((img, gammaImg))\n",
        "cv2_imshow(final_frame)\n"
      ],
      "metadata": {
        "colab": {
          "base_uri": "https://localhost:8080/",
          "height": 374
        },
        "id": "Q4QRB4xInfmu",
        "outputId": "d6e1a61e-689b-49a5-ff4b-32a85a9bf90c"
      },
      "execution_count": 36,
      "outputs": [
        {
          "output_type": "stream",
          "name": "stdout",
          "text": [
            " Gamma Correction pada citra \n"
          ]
        },
        {
          "output_type": "error",
          "ename": "error",
          "evalue": "ignored",
          "traceback": [
            "\u001b[0;31m---------------------------------------------------------------------------\u001b[0m",
            "\u001b[0;31merror\u001b[0m                                     Traceback (most recent call last)",
            "\u001b[0;32m<ipython-input-36-4d389c38ca09>\u001b[0m in \u001b[0;36m<module>\u001b[0;34m()\u001b[0m\n\u001b[1;32m     11\u001b[0m \u001b[0;34m\u001b[0m\u001b[0m\n\u001b[1;32m     12\u001b[0m \u001b[0mimg\u001b[0m \u001b[0;34m=\u001b[0m \u001b[0mcv\u001b[0m\u001b[0;34m.\u001b[0m\u001b[0mimread\u001b[0m\u001b[0;34m(\u001b[0m\u001b[0;34m'/content/drive/MyDrive/PCVK/Images/female.tiff'\u001b[0m\u001b[0;34m)\u001b[0m\u001b[0;34m\u001b[0m\u001b[0;34m\u001b[0m\u001b[0m\n\u001b[0;32m---> 13\u001b[0;31m \u001b[0mgammaImg\u001b[0m \u001b[0;34m=\u001b[0m \u001b[0mgammaCorrection\u001b[0m\u001b[0;34m(\u001b[0m\u001b[0mimg\u001b[0m\u001b[0;34m,\u001b[0m\u001b[0;36m3\u001b[0m\u001b[0;34m)\u001b[0m \u001b[0;31m#inputkan nilai gamma disamping (ex 3)\u001b[0m\u001b[0;34m\u001b[0m\u001b[0;34m\u001b[0m\u001b[0m\n\u001b[0m\u001b[1;32m     14\u001b[0m \u001b[0;34m\u001b[0m\u001b[0m\n\u001b[1;32m     15\u001b[0m \u001b[0mfinal_frame\u001b[0m \u001b[0;34m=\u001b[0m \u001b[0mcv\u001b[0m\u001b[0;34m.\u001b[0m\u001b[0mhconcat\u001b[0m\u001b[0;34m(\u001b[0m\u001b[0;34m(\u001b[0m\u001b[0mimg\u001b[0m\u001b[0;34m,\u001b[0m \u001b[0mgammaImg\u001b[0m\u001b[0;34m)\u001b[0m\u001b[0;34m)\u001b[0m\u001b[0;34m\u001b[0m\u001b[0;34m\u001b[0m\u001b[0m\n",
            "\u001b[0;32m<ipython-input-36-4d389c38ca09>\u001b[0m in \u001b[0;36mgammaCorrection\u001b[0;34m(src, gamma)\u001b[0m\n\u001b[1;32m      7\u001b[0m     \u001b[0mtable\u001b[0m \u001b[0;34m=\u001b[0m \u001b[0mnp\u001b[0m\u001b[0;34m.\u001b[0m\u001b[0marray\u001b[0m\u001b[0;34m(\u001b[0m\u001b[0mtable\u001b[0m\u001b[0;34m,\u001b[0m \u001b[0mnp\u001b[0m\u001b[0;34m.\u001b[0m\u001b[0muint8\u001b[0m\u001b[0;34m)\u001b[0m\u001b[0;34m\u001b[0m\u001b[0;34m\u001b[0m\u001b[0m\n\u001b[1;32m      8\u001b[0m \u001b[0;34m\u001b[0m\u001b[0m\n\u001b[0;32m----> 9\u001b[0;31m     \u001b[0;32mreturn\u001b[0m \u001b[0mcv\u001b[0m\u001b[0;34m.\u001b[0m\u001b[0mLUT\u001b[0m\u001b[0;34m(\u001b[0m\u001b[0msrc\u001b[0m\u001b[0;34m,\u001b[0m \u001b[0mtable\u001b[0m\u001b[0;34m)\u001b[0m\u001b[0;34m\u001b[0m\u001b[0;34m\u001b[0m\u001b[0m\n\u001b[0m\u001b[1;32m     10\u001b[0m \u001b[0;34m\u001b[0m\u001b[0m\n\u001b[1;32m     11\u001b[0m \u001b[0;34m\u001b[0m\u001b[0m\n",
            "\u001b[0;31merror\u001b[0m: OpenCV(4.1.2) /io/opencv/modules/core/src/matrix.cpp:406: error: (-215:Assertion failed) m.dims >= 2 in function 'Mat'\n"
          ]
        }
      ]
    },
    {
      "cell_type": "markdown",
      "source": [
        "**Bit Depth**\n",
        "\n",
        "Operasi ini digunakan untuk menunjukkan pada anda tentang kuantisasi citra. Kuantisasi yang dilakukan adalah pada nilai kedalaman warna 1 – 7 bit."
      ],
      "metadata": {
        "id": "0uGSiAGwr9Y9"
      }
    },
    {
      "cell_type": "code",
      "source": [
        "original = cv.cvtColor(img,cv.COLOR_BGR2RGB) #konversi channel BGR ke RGB\n",
        "final_image = np.zeros(original.shape, original.dtype)\n",
        "\n",
        "\n",
        "print(' Simulasi Image Depth ')\n",
        "print('----------------------')\n",
        "try:\n",
        "  bd = float(input('Masukkan nilai bit depth: '))\n",
        "except ValueError:\n",
        "  print('Error, not a number')\n",
        "\n",
        "bit = 2**bd\n",
        "level = 255 / (bit - 1)\n",
        "\n",
        "for y in range(original.shape[0]):\n",
        "  for x in range(original.shape[1]):\n",
        "    for c in range(original.shape[2]):\n",
        "     final_image[y,x,c] = np.clip(round(original[y,x,c] / level) * level, 0, 255);\n",
        "\n",
        "final_frame = cv.hconcat((original, final_image))\n",
        "cv2_imshow(final_frame)"
      ],
      "metadata": {
        "id": "KhwaZ20nsIZ7",
        "colab": {
          "base_uri": "https://localhost:8080/",
          "height": 234
        },
        "outputId": "a5c97927-51ce-4685-c147-51538ea2849a"
      },
      "execution_count": 21,
      "outputs": [
        {
          "output_type": "error",
          "ename": "error",
          "evalue": "ignored",
          "traceback": [
            "\u001b[0;31m---------------------------------------------------------------------------\u001b[0m",
            "\u001b[0;31merror\u001b[0m                                     Traceback (most recent call last)",
            "\u001b[0;32m<ipython-input-21-cf41fd96fb71>\u001b[0m in \u001b[0;36m<module>\u001b[0;34m()\u001b[0m\n\u001b[0;32m----> 1\u001b[0;31m \u001b[0moriginal\u001b[0m \u001b[0;34m=\u001b[0m \u001b[0mcv\u001b[0m\u001b[0;34m.\u001b[0m\u001b[0mcvtColor\u001b[0m\u001b[0;34m(\u001b[0m\u001b[0mimg\u001b[0m\u001b[0;34m,\u001b[0m\u001b[0mcv\u001b[0m\u001b[0;34m.\u001b[0m\u001b[0mCOLOR_BGR2RGB\u001b[0m\u001b[0;34m)\u001b[0m \u001b[0;31m#konversi channel BGR ke RGB\u001b[0m\u001b[0;34m\u001b[0m\u001b[0;34m\u001b[0m\u001b[0m\n\u001b[0m\u001b[1;32m      2\u001b[0m \u001b[0mfinal_image\u001b[0m \u001b[0;34m=\u001b[0m \u001b[0mnp\u001b[0m\u001b[0;34m.\u001b[0m\u001b[0mzeros\u001b[0m\u001b[0;34m(\u001b[0m\u001b[0moriginal\u001b[0m\u001b[0;34m.\u001b[0m\u001b[0mshape\u001b[0m\u001b[0;34m,\u001b[0m \u001b[0moriginal\u001b[0m\u001b[0;34m.\u001b[0m\u001b[0mdtype\u001b[0m\u001b[0;34m)\u001b[0m\u001b[0;34m\u001b[0m\u001b[0;34m\u001b[0m\u001b[0m\n\u001b[1;32m      3\u001b[0m \u001b[0;34m\u001b[0m\u001b[0m\n\u001b[1;32m      4\u001b[0m \u001b[0;34m\u001b[0m\u001b[0m\n\u001b[1;32m      5\u001b[0m \u001b[0mprint\u001b[0m\u001b[0;34m(\u001b[0m\u001b[0;34m' Simulasi Image Depth '\u001b[0m\u001b[0;34m)\u001b[0m\u001b[0;34m\u001b[0m\u001b[0;34m\u001b[0m\u001b[0m\n",
            "\u001b[0;31merror\u001b[0m: OpenCV(4.1.2) /io/opencv/modules/imgproc/src/color.cpp:182: error: (-215:Assertion failed) !_src.empty() in function 'cvtColor'\n"
          ]
        }
      ]
    },
    {
      "cell_type": "markdown",
      "source": [
        "**Average Denoising**"
      ],
      "metadata": {
        "id": "ogDCPyjrZWVt"
      }
    },
    {
      "cell_type": "code",
      "source": [
        "import glob\n",
        "from math import log10, sqrt"
      ],
      "metadata": {
        "id": "cJ1SkA5nZd9W"
      },
      "execution_count": 22,
      "outputs": []
    },
    {
      "cell_type": "markdown",
      "source": [
        "Citra 25"
      ],
      "metadata": {
        "id": "GH8cSO0_Z1mq"
      }
    },
    {
      "cell_type": "code",
      "source": [
        "original = cv.imread('/content/drive/MyDrive/PCVK/Images/galaxy.jpg')\n",
        "cv_img = []\n",
        "for img in glob.glob('/content/drive/MyDrive/PCVK/Images/noises/*.jpg'):\n",
        "  n = cv.imread(img)\n",
        "  cv_img.append(n)\n",
        "  \n",
        "dst = cv_img[0]\n",
        "noise_number = 4 # nomor (array) gambar pada folder noises\n",
        "for i in range(noise_number):\n",
        "    if i == 0:\n",
        "        pass\n",
        "    else:\n",
        "        alpha = 1.0 / (i + 1)\n",
        "        beta = 1.0 - alpha\n",
        "        dst = cv.addWeighted(cv_img[i], alpha, dst, beta, 0.0)\n",
        "\n",
        "def PSNR(original, compressed): \n",
        "    mse = np.mean((original - compressed) ** 2) \n",
        "    if(mse == 0):  # MSE is zero means no noise is present in the signal. \n",
        "                  # Therefore PSNR have no importance. \n",
        "        return 100\n",
        "    max_pixel = 255.0\n",
        "    psnr = 20 * log10(max_pixel / sqrt(mse)) \n",
        "    return psnr\n",
        "\n",
        "compressed = dst\n",
        "psnr = PSNR(original, compressed)\n",
        "\n",
        "print('Nilai PSNR adalah',psnr,'(dB)')\n",
        "galaxy_frame = cv.hconcat((original, dst))\n",
        "cv2_imshow(galaxy_frame)"
      ],
      "metadata": {
        "colab": {
          "base_uri": "https://localhost:8080/",
          "height": 234
        },
        "id": "FUHnTRKkZkeo",
        "outputId": "8e28be90-d9ad-4685-a320-17fe404eec24"
      },
      "execution_count": 26,
      "outputs": [
        {
          "output_type": "error",
          "ename": "IndexError",
          "evalue": "ignored",
          "traceback": [
            "\u001b[0;31m---------------------------------------------------------------------------\u001b[0m",
            "\u001b[0;31mIndexError\u001b[0m                                Traceback (most recent call last)",
            "\u001b[0;32m<ipython-input-26-73e44fdda855>\u001b[0m in \u001b[0;36m<module>\u001b[0;34m()\u001b[0m\n\u001b[1;32m      4\u001b[0m   \u001b[0mn\u001b[0m \u001b[0;34m=\u001b[0m \u001b[0mcv\u001b[0m\u001b[0;34m.\u001b[0m\u001b[0mimread\u001b[0m\u001b[0;34m(\u001b[0m\u001b[0mimg\u001b[0m\u001b[0;34m)\u001b[0m\u001b[0;34m\u001b[0m\u001b[0;34m\u001b[0m\u001b[0m\n\u001b[1;32m      5\u001b[0m   \u001b[0mcv_img\u001b[0m\u001b[0;34m.\u001b[0m\u001b[0mappend\u001b[0m\u001b[0;34m(\u001b[0m\u001b[0mn\u001b[0m\u001b[0;34m)\u001b[0m\u001b[0;34m\u001b[0m\u001b[0;34m\u001b[0m\u001b[0m\n\u001b[0;32m----> 6\u001b[0;31m \u001b[0mdst\u001b[0m \u001b[0;34m=\u001b[0m \u001b[0mcv_img\u001b[0m\u001b[0;34m[\u001b[0m\u001b[0;36m0\u001b[0m\u001b[0;34m]\u001b[0m\u001b[0;34m\u001b[0m\u001b[0;34m\u001b[0m\u001b[0m\n\u001b[0m\u001b[1;32m      7\u001b[0m \u001b[0mnoise_number\u001b[0m \u001b[0;34m=\u001b[0m \u001b[0;36m4\u001b[0m \u001b[0;31m# nomor (array) gambar pada folder noises\u001b[0m\u001b[0;34m\u001b[0m\u001b[0;34m\u001b[0m\u001b[0m\n\u001b[1;32m      8\u001b[0m \u001b[0;32mfor\u001b[0m \u001b[0mi\u001b[0m \u001b[0;32min\u001b[0m \u001b[0mrange\u001b[0m\u001b[0;34m(\u001b[0m\u001b[0mnoise_number\u001b[0m\u001b[0;34m)\u001b[0m\u001b[0;34m:\u001b[0m\u001b[0;34m\u001b[0m\u001b[0;34m\u001b[0m\u001b[0m\n",
            "\u001b[0;31mIndexError\u001b[0m: list index out of range"
          ]
        }
      ]
    },
    {
      "cell_type": "markdown",
      "source": [
        "Citra 50"
      ],
      "metadata": {
        "id": "NoZ-GawIZ8NR"
      }
    },
    {
      "cell_type": "code",
      "source": [
        "dst = cv_img[0]\n",
        "noise_number = 49 # nomor (array) gambar pada folder noises\n",
        "for i in range(noise_number):\n",
        "    if i == 0:\n",
        "        pass\n",
        "    else:\n",
        "        alpha = 1.0 / (i + 1)\n",
        "        beta = 1.0 - alpha\n",
        "        dst = cv.addWeighted(cv_img[i], alpha, dst, beta, 0.0)\n",
        "\n",
        "def PSNR(original, compressed): \n",
        "    mse = np.mean((original - compressed) ** 2) \n",
        "    if(mse == 0):  # MSE is zero means no noise is present in the signal. \n",
        "                  # Therefore PSNR have no importance. \n",
        "        return 100\n",
        "    max_pixel = 255.0\n",
        "    psnr = 20 * log10(max_pixel / sqrt(mse)) \n",
        "    return psnr\n",
        "\n",
        "compressed = dst\n",
        "psnr = PSNR(original, compressed)\n",
        "\n",
        "print('Nilai PSNR adalah',psnr,'(dB)')\n",
        "galaxy_frame = cv.hconcat((original, dst))\n",
        "cv2_imshow(galaxy_frame)"
      ],
      "metadata": {
        "colab": {
          "base_uri": "https://localhost:8080/",
          "height": 234
        },
        "id": "sXAsQidAZ9dj",
        "outputId": "7757cedc-88df-4337-aea1-09180c5d8ec1"
      },
      "execution_count": 27,
      "outputs": [
        {
          "output_type": "error",
          "ename": "IndexError",
          "evalue": "ignored",
          "traceback": [
            "\u001b[0;31m---------------------------------------------------------------------------\u001b[0m",
            "\u001b[0;31mIndexError\u001b[0m                                Traceback (most recent call last)",
            "\u001b[0;32m<ipython-input-27-e95320d1314d>\u001b[0m in \u001b[0;36m<module>\u001b[0;34m()\u001b[0m\n\u001b[0;32m----> 1\u001b[0;31m \u001b[0mdst\u001b[0m \u001b[0;34m=\u001b[0m \u001b[0mcv_img\u001b[0m\u001b[0;34m[\u001b[0m\u001b[0;36m0\u001b[0m\u001b[0;34m]\u001b[0m\u001b[0;34m\u001b[0m\u001b[0;34m\u001b[0m\u001b[0m\n\u001b[0m\u001b[1;32m      2\u001b[0m \u001b[0mnoise_number\u001b[0m \u001b[0;34m=\u001b[0m \u001b[0;36m49\u001b[0m \u001b[0;31m# nomor (array) gambar pada folder noises\u001b[0m\u001b[0;34m\u001b[0m\u001b[0;34m\u001b[0m\u001b[0m\n\u001b[1;32m      3\u001b[0m \u001b[0;32mfor\u001b[0m \u001b[0mi\u001b[0m \u001b[0;32min\u001b[0m \u001b[0mrange\u001b[0m\u001b[0;34m(\u001b[0m\u001b[0mnoise_number\u001b[0m\u001b[0;34m)\u001b[0m\u001b[0;34m:\u001b[0m\u001b[0;34m\u001b[0m\u001b[0;34m\u001b[0m\u001b[0m\n\u001b[1;32m      4\u001b[0m     \u001b[0;32mif\u001b[0m \u001b[0mi\u001b[0m \u001b[0;34m==\u001b[0m \u001b[0;36m0\u001b[0m\u001b[0;34m:\u001b[0m\u001b[0;34m\u001b[0m\u001b[0;34m\u001b[0m\u001b[0m\n\u001b[1;32m      5\u001b[0m         \u001b[0;32mpass\u001b[0m\u001b[0;34m\u001b[0m\u001b[0;34m\u001b[0m\u001b[0m\n",
            "\u001b[0;31mIndexError\u001b[0m: list index out of range"
          ]
        }
      ]
    },
    {
      "cell_type": "markdown",
      "source": [
        "Citra 80"
      ],
      "metadata": {
        "id": "CvgxrI2caBM2"
      }
    },
    {
      "cell_type": "code",
      "source": [
        "dst = cv_img[0]\n",
        "noise_number = 79 # nomor (array) gambar pada folder noises\n",
        "for i in range(noise_number):\n",
        "    if i == 0:\n",
        "        pass\n",
        "    else:\n",
        "        alpha = 1.0 / (i + 1)\n",
        "        beta = 1.0 - alpha\n",
        "        dst = cv.addWeighted(cv_img[i], alpha, dst, beta, 0.0)\n",
        "\n",
        "def PSNR(original, compressed): \n",
        "    mse = np.mean((original - compressed) ** 2) \n",
        "    if(mse == 0):  # MSE is zero means no noise is present in the signal. \n",
        "                  # Therefore PSNR have no importance. \n",
        "        return 100\n",
        "    max_pixel = 255.0\n",
        "    psnr = 20 * log10(max_pixel / sqrt(mse)) \n",
        "    return psnr\n",
        "\n",
        "compressed = dst\n",
        "psnr = PSNR(original, compressed)\n",
        "\n",
        "print('Nilai PSNR adalah',psnr,'(dB)')\n",
        "galaxy_frame = cv.hconcat((original, dst))\n",
        "cv2_imshow(galaxy_frame)"
      ],
      "metadata": {
        "id": "Yt-KVuMraCMs"
      },
      "execution_count": null,
      "outputs": []
    },
    {
      "cell_type": "markdown",
      "source": [
        "Citra 100"
      ],
      "metadata": {
        "id": "CS9o_7ECaE7K"
      }
    },
    {
      "cell_type": "code",
      "source": [
        "dst = cv_img[0]\n",
        "noise_number = 99 # nomor (array) gambar pada folder noises\n",
        "for i in range(noise_number):\n",
        "    if i == 0:\n",
        "        pass\n",
        "    else:\n",
        "        alpha = 1.0 / (i + 1)\n",
        "        beta = 1.0 - alpha\n",
        "        dst = cv.addWeighted(cv_img[i], alpha, dst, beta, 0.0)\n",
        "\n",
        "def PSNR(original, compressed): \n",
        "    mse = np.mean((original - compressed) ** 2) \n",
        "    if(mse == 0):  # MSE is zero means no noise is present in the signal. \n",
        "                  # Therefore PSNR have no importance. \n",
        "        return 100\n",
        "    max_pixel = 255.0\n",
        "    psnr = 20 * log10(max_pixel / sqrt(mse)) \n",
        "    return psnr\n",
        "\n",
        "compressed = dst\n",
        "psnr = PSNR(original, compressed)\n",
        "\n",
        "print('Nilai PSNR adalah',psnr,'(dB)')\n",
        "galaxy_frame = cv.hconcat((original, dst))\n",
        "cv2_imshow(galaxy_frame)"
      ],
      "metadata": {
        "id": "kExlu3NaaGN9"
      },
      "execution_count": null,
      "outputs": []
    },
    {
      "cell_type": "markdown",
      "source": [
        "**Image Masking**"
      ],
      "metadata": {
        "id": "Ru24DyGxaH-k"
      }
    },
    {
      "cell_type": "code",
      "source": [
        "img_tank = cv.imread('/content/drive/MyDrive/PCVK/Images/tank.tiff')\n",
        "\n",
        "mask = np.zeros(img_tank.shape, dtype=np.uint8)\n",
        "mask = cv.circle(mask, (250, 240), 225, (255,255,255), -1)\n",
        "\n",
        "masked = img_tank & mask\n",
        "\n",
        "tank_frame = cv.hconcat((img_tank, mask, masked))\n",
        "cv2_imshow(tank_frame)"
      ],
      "metadata": {
        "id": "7MHxGxcMaMqS"
      },
      "execution_count": null,
      "outputs": []
    },
    {
      "cell_type": "markdown",
      "source": [
        "**Other Operation**"
      ],
      "metadata": {
        "id": "8xBs6WIvaQsc"
      }
    },
    {
      "cell_type": "markdown",
      "source": [
        "Operator OR"
      ],
      "metadata": {
        "id": "gI67xTB2aVpA"
      }
    },
    {
      "cell_type": "code",
      "source": [
        "img_tank = cv.imread('/content/drive/MyDrive/Kuliah/tank.tiff')\n",
        "\n",
        "mask = np.zeros(img_tank.shape, dtype=np.uint8)\n",
        "mask = cv.circle(mask, (250, 240), 225, (255,255,255), -1)\n",
        "\n",
        "masked = img_tank | mask\n",
        "\n",
        "tank_frame = cv.hconcat((img_tank, mask, masked))\n",
        "cv2_imshow(tank_frame)"
      ],
      "metadata": {
        "id": "mOTR1k-KaSkh"
      },
      "execution_count": null,
      "outputs": []
    },
    {
      "cell_type": "markdown",
      "source": [
        "Operator AND"
      ],
      "metadata": {
        "id": "3IaskaJUaZjM"
      }
    },
    {
      "cell_type": "code",
      "source": [
        "img_tank = cv.imread('/content/drive/MyDrive/Kuliah/tank.tiff')\n",
        "\n",
        "mask = np.zeros(img_tank.shape, dtype=np.uint8)\n",
        "mask = cv.circle(mask, (250, 240), 225, (255,255,255), -1)\n",
        "\n",
        "masked = img_tank & mask\n",
        "\n",
        "tank_frame = cv.hconcat((img_tank, mask, masked))\n",
        "cv2_imshow(tank_frame)"
      ],
      "metadata": {
        "id": "cv6MDUhuaa4k"
      },
      "execution_count": null,
      "outputs": []
    },
    {
      "cell_type": "markdown",
      "source": [
        "Operator NOT"
      ],
      "metadata": {
        "id": "dKCVu8zradFS"
      }
    },
    {
      "cell_type": "code",
      "source": [
        "img_tank = cv.imread('/content/drive/MyDrive/Kuliah/tank.tiff')\n",
        "\n",
        "mask = np.zeros(img_tank.shape, dtype=np.uint8)\n",
        "mask = cv.circle(mask, (250, 240), 225, (255,255,255), -1)\n",
        "\n",
        "masked = ~img_tank & ~mask\n",
        "\n",
        "tank_frame = cv.hconcat((img_tank, mask, masked))\n",
        "cv2_imshow(tank_frame)"
      ],
      "metadata": {
        "id": "smFuatZuaenY"
      },
      "execution_count": null,
      "outputs": []
    }
  ]
}