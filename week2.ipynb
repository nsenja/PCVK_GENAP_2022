{
  "nbformat": 4,
  "nbformat_minor": 0,
  "metadata": {
    "colab": {
      "name": "week2.ipynb",
      "provenance": [],
      "authorship_tag": "ABX9TyO+kPX8xhw6uVPoQziomOWr",
      "include_colab_link": true
    },
    "kernelspec": {
      "name": "python3",
      "display_name": "Python 3"
    },
    "language_info": {
      "name": "python"
    }
  },
  "cells": [
    {
      "cell_type": "markdown",
      "metadata": {
        "id": "view-in-github",
        "colab_type": "text"
      },
      "source": [
        "<a href=\"https://colab.research.google.com/github/nsenja/PCVK_GENAP_2022/blob/main/week2.ipynb\" target=\"_parent\"><img src=\"https://colab.research.google.com/assets/colab-badge.svg\" alt=\"Open In Colab\"/></a>"
      ]
    },
    {
      "cell_type": "code",
      "execution_count": 1,
      "metadata": {
        "id": "CbKBzmAiqUOy",
        "outputId": "e26aac2b-61be-40fb-868c-c688271328c6",
        "colab": {
          "base_uri": "https://localhost:8080/"
        }
      },
      "outputs": [
        {
          "output_type": "stream",
          "name": "stdout",
          "text": [
            "Mounted at /content/drive\n"
          ]
        }
      ],
      "source": [
        "from google.colab import drive\n",
        "\n",
        "#accessing google drive\n",
        "drive.mount('/content/drive')"
      ]
    },
    {
      "cell_type": "markdown",
      "source": [
        "PRAKTIKUM 1"
      ],
      "metadata": {
        "id": "XBaMnsBYraEz"
      }
    },
    {
      "cell_type": "code",
      "source": [
        "import cv2 as cv\n",
        "from google.colab.patches import cv2_imshow\n",
        "form skimage import io\n",
        "import matplotlib.pyplot as plt\n",
        "import numpy as np\n",
        "img = cv.imread('content/drive/MyDrive/PCVK')\n",
        "plt.imshow(img)\n"
      ],
      "metadata": {
        "id": "9g5cGtnBilAt"
      },
      "execution_count": null,
      "outputs": []
    },
    {
      "cell_type": "code",
      "source": [
        "img2 = img\n",
        "img3 = cv.cvtColor(img,cv.COLOR_BGR2RGB) #konversi channel BGR ke RGB\n",
        "plt.imshow(img3)"
      ],
      "metadata": {
        "id": "_whd1F8bkFCL"
      },
      "execution_count": null,
      "outputs": []
    },
    {
      "cell_type": "code",
      "source": [
        "img_gray = cv.imread('/content/drive/MyDrive/PCVK' , cv.IMREAD_GRAYSCLAE)\n",
        "plt.imshow(img_gray)"
      ],
      "metadata": {
        "id": "rn6-1FFlkVNo"
      },
      "execution_count": null,
      "outputs": []
    },
    {
      "cell_type": "code",
      "source": [
        "plt.imshow(img_gray, cmap='gray')"
      ],
      "metadata": {
        "id": "60CRbJdBkmCd"
      },
      "execution_count": null,
      "outputs": []
    },
    {
      "cell_type": "code",
      "source": [
        "plt.imshow(img_gray, cmap='magma')"
      ],
      "metadata": {
        "id": "Vvz0Q8nZksc8"
      },
      "execution_count": null,
      "outputs": []
    },
    {
      "cell_type": "markdown",
      "source": [
        "**PRAKTIKUM 2**"
      ],
      "metadata": {
        "id": "ludbJ0_wk0-S"
      }
    },
    {
      "cell_type": "code",
      "source": [
        "img = cv.resize(cv.cvtColor(img,cv.COLOR_BGR2RGB), 512,1024)) #ukuran image\n",
        "plt.imshow(img4)"
      ],
      "metadata": {
        "id": "qI8URD-kk6CA"
      },
      "execution_count": null,
      "outputs": []
    },
    {
      "cell_type": "code",
      "source": [
        "img5 = cv.flip(cv.cvtColor(img,cv.COLOR_BGR2RGB),0)\n",
        "\n",
        "#save file image\n",
        "#cv.imwrite(direktori file)\n",
        "\n",
        "#tampilkan plot dengan ukuran canvas yang lebih besar\n",
        "fig = plt.figure(figsize=(10,10))\n",
        "ax = fig.add_subplot(111)\n",
        "ax.imshow(img5)"
      ],
      "metadata": {
        "id": "cUYjh_9YlOwp"
      },
      "execution_count": null,
      "outputs": []
    },
    {
      "cell_type": "markdown",
      "source": [
        "**TUGAS**\n",
        "\n",
        "Berdasarkan praktikum bagian 1 dan 2 kerjakan beberapa tugas berikut :\n",
        "1. Dengan menggunakan figsize, perhatikan apakah ukuran image pixelnya juga\n",
        "berubah?\n",
        "2. Tampilkan image dalam channel Red-Green dan Green-Blue saja!\n",
        "3. Tampilkan image baris ke 20-250, kolom 20-250!\n",
        "4. Tampilkan image baris ke 7-27, semua kolom, channel Red saja!"
      ],
      "metadata": {
        "id": "80dJrNWPl3Rr"
      }
    },
    {
      "cell_type": "markdown",
      "source": [
        "**PRAKTIKUM 3**"
      ],
      "metadata": {
        "id": "8FhjNGqRl6vO"
      }
    },
    {
      "cell_type": "markdown",
      "source": [
        "Langkah 1 :\n",
        "Membuat bentuk Geometri 2D dari OpenCV. Diawali dengan pembuatan black image\n",
        "dengan tipe data int16."
      ],
      "metadata": {
        "id": "yMHool4XmWqF"
      }
    },
    {
      "cell_type": "code",
      "source": [
        "black_img = np.zeros(shape=(512,512,3),dtype=np.int16)\n",
        "plt.imshow(black_img)"
      ],
      "metadata": {
        "id": "gaPLejd3l9Yd"
      },
      "execution_count": null,
      "outputs": []
    },
    {
      "cell_type": "code",
      "source": [
        "#perhatikan titik pt1 dan pt2\n",
        "cv.rectangle(black_img, \n",
        "             pt1=(384,0),\n",
        "             pt2=(510,150),\n",
        "             color=(0,255,0),\n",
        "             thickness=10)\n",
        "plt.imshow(black_img)"
      ],
      "metadata": {
        "id": "o5xPirjPme1N"
      },
      "execution_count": null,
      "outputs": []
    },
    {
      "cell_type": "code",
      "source": [
        "#menambahkan bentuk persegi sesuai koordinat\n",
        "cv.rectangle(black_img,\n",
        "             pt1=(200,200),\n",
        "             pt2=(300,300),\n",
        "             color=(0,0,255),\n",
        "             thickness=15)\n",
        "plt.imshow(black_img)"
      ],
      "metadata": {
        "id": "ydrYyR7ZnXeY"
      },
      "execution_count": null,
      "outputs": []
    },
    {
      "cell_type": "code",
      "source": [
        "#Tahap selanjutnya ditambah menambahkan bentuk lingkaran sesuai radius yang tertulis pada kode program.\n",
        "cv.circle(black_img,\n",
        "          center=(100,100),\n",
        "          radius=50,\n",
        "          color=(255,0,0),\n",
        "          thickness=8)\n",
        "plt.imshow(black_img)"
      ],
      "metadata": {
        "id": "xi0sQM-Ynd3h"
      },
      "execution_count": null,
      "outputs": []
    },
    {
      "cell_type": "code",
      "source": [
        "#penambahan garis sesuai koordinat pt1 dan pt2\n",
        "cv.line(black_img,\n",
        "        pt1=(0,0),\n",
        "        pt2=(512,512),\n",
        "        color=(255,255,255),\n",
        "        thickness=5)\n",
        "plt.imshow(black_img)"
      ],
      "metadata": {
        "id": "tE_7l1zynxKV"
      },
      "execution_count": null,
      "outputs": []
    },
    {
      "cell_type": "code",
      "source": [
        "#Penambahan text dengan font yang telah tertulis dengan ukuran yang sudah ditentukan.\n",
        "font = cv.FONT_HERSHEY_SIMPLEX\n",
        "cv.putText(black_img,text='Hello',org=(10,500),\n",
        "           fontFace=font,\n",
        "           fontSclae=4,\n",
        "           color=(255,255,0),\n",
        "           thickness=2,lineType=cv.LINE_AA)\n",
        "plt.imshow(black_img)"
      ],
      "metadata": {
        "id": "0gYtV2vnoHX0"
      },
      "execution_count": null,
      "outputs": []
    },
    {
      "cell_type": "code",
      "source": [
        "#Pembuatan black image kembali dilakukan dengan tipe data int32\n",
        "black_img2=np.zeros(shape=(512,512,3),dtype=np.int32)\n",
        "plt.imshow(black_img2)"
      ],
      "metadata": {
        "id": "CvjvjOq-phac"
      },
      "execution_count": null,
      "outputs": []
    },
    {
      "cell_type": "code",
      "source": [
        "#Berikut adalah kode program untuk inisialisasi NumPy array dengan tipe data int32\n",
        "verticer = np.array([[300,300],[200,200],[400,300],[200,400]],dtyper=np.int32)\n",
        "vertices"
      ],
      "metadata": {
        "id": "kwJyMod7p7s9"
      },
      "execution_count": null,
      "outputs": []
    },
    {
      "cell_type": "code",
      "source": [
        "#reshape array\n",
        "pts = vertices.reshape((-1,1,2)) #nilai 2 menunjukkan bahwa tiap titik dibuat 3 channel RGB\n",
        "pts"
      ],
      "metadata": {
        "id": "e7b3gvZ_qMon"
      },
      "execution_count": null,
      "outputs": []
    },
    {
      "cell_type": "code",
      "source": [
        "#penambahan polyline pada black image 2\n",
        "cv.polylines(black_img2,[pts],isClosed=True,color=(255,0,0),thickness=5)\n",
        "plt.imshow(black_img2)"
      ],
      "metadata": {
        "id": "JhHOuqZJqctx"
      },
      "execution_count": null,
      "outputs": []
    },
    {
      "cell_type": "markdown",
      "source": [
        "**TUGAS**\n",
        "\n",
        "Berdasarkan praktikum bagian 3 kerjakan beberapa tugas berikut :\n",
        "1. Buat rectangle dan circle pada bagian wajah dari image foto anda saat\n",
        "beraktifitas (bukan pasfoto).\n",
        "2. Buat rectangle pada bagian sudut bawah kiri channel B pada color space RGB\n",
        "dari citra kitten/ lena/ mandrill/ male/ female/ couple/ sailboat/ peppers!\n",
        "3. Tulis nama file pada file citra dari soal no.2. Gunakan font, ukuran font, dan\n",
        "warna font yang sesuai keinginan anda."
      ],
      "metadata": {
        "id": "7NsMM4ltrRnE"
      }
    }
  ]
}